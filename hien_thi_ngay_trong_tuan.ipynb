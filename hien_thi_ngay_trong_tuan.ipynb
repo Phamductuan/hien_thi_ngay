{
 "cells": [
  {
   "cell_type": "code",
   "execution_count": 2,
   "id": "fbd9f95a",
   "metadata": {},
   "outputs": [
    {
     "name": "stdout",
     "output_type": "stream",
     "text": [
      " nhap so (from 1 to 7): \n",
      "2\n",
      "Tuesday\n"
     ]
    }
   ],
   "source": [
    "print(\" nhap so (from 1 to 7): \")\n",
    "date = int(input())\n",
    "if date == 1:\n",
    "    print(\"Monday\")\n",
    "elif date == 2:\n",
    "    print(\"Tuesday\")\n",
    "elif date == 3:\n",
    "    print(\"Tuesday\")\n",
    "elif date == 4:\n",
    "    print(\"Wednesday\")\n",
    "elif date == 5:\n",
    "    print(\"Thursday\")\n",
    "elif date == 6:\n",
    "    print(\"Friday\")\n",
    "elif date == 7:\n",
    "    print(\"Saturday\")\n",
    "else:\n",
    "    print(\"kiem tra lai du lieu nhap\")"
   ]
  }
 ],
 "metadata": {
  "kernelspec": {
   "display_name": "Python 3 (ipykernel)",
   "language": "python",
   "name": "python3"
  },
  "language_info": {
   "codemirror_mode": {
    "name": "ipython",
    "version": 3
   },
   "file_extension": ".py",
   "mimetype": "text/x-python",
   "name": "python",
   "nbconvert_exporter": "python",
   "pygments_lexer": "ipython3",
   "version": "3.9.6"
  }
 },
 "nbformat": 4,
 "nbformat_minor": 5
}
